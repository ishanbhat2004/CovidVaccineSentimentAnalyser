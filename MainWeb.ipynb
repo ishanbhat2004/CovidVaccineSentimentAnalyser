{
 "cells": [
  {
   "cell_type": "code",
   "execution_count": 1,
   "id": "micro-somewhere",
   "metadata": {},
   "outputs": [],
   "source": [
    "from pywebio.input import *\n",
    "from pywebio.output import *\n",
    "from pywebio.platform.flask import webio_view \n",
    "from pywebio import STATIC_PATH\n",
    "from flask import Flask, send_from_directory"
   ]
  },
  {
   "cell_type": "code",
   "execution_count": 2,
   "id": "aquatic-wireless",
   "metadata": {},
   "outputs": [],
   "source": [
    "import pickle \n",
    "import numpy as np\n",
    "model = pickle.load(open('pickle_model.pkl', 'rb'))\n",
    "app = Flask(__name__)"
   ]
  },
  {
   "cell_type": "code",
   "execution_count": 3,
   "id": "corrected-davis",
   "metadata": {},
   "outputs": [],
   "source": [
    "def check_review(reviewText):\n",
    "    file = open(\"pickle_model.pkl\",'rb')\n",
    "    recreated_model = pickle.load(file)\n",
    "    \n",
    "    vocab_file = open('features.pkl','rb')\n",
    "    recreated_vocab =  pickle.load(vocab_file)\n",
    "    \n",
    "    from sklearn.feature_extraction.text import TfidfVectorizer\n",
    "    recreated_vect = TfidfVectorizer(vocabulary = recreated_vocab)\n",
    "    \n",
    "    reviewText_vectorized = recreated_vect.fit_transform([reviewText])\n",
    "    if(recreated_model.predict(reviewText_vectorized) == 'positive'):\n",
    "        return \"This is great news, We'll forward your positive regards to the concerned authorities.\"\n",
    "    else:\n",
    "        return \"We're so sorry to hear this, we'll convey your misgivings to the concerned authorities.\""
   ]
  },
  {
   "cell_type": "code",
   "execution_count": 4,
   "id": "ideal-edwards",
   "metadata": {},
   "outputs": [],
   "source": [
    "from pywebio.exceptions import SessionClosedException\n",
    "def demo():\n",
    "    for i in range(True):\n",
    "        def check_form(inputs):  # input group validation: return (input name, error msg) when validation fail\n",
    "            if (inputs['integer_in'] <= 0):\n",
    "                return ('age', 'Age can not be negative!')\n",
    "    \n",
    "        inputs = input_group(\"All Input Types\",[\n",
    "        input(\"enter your age(no one below 18 can use this application):\", type = NUMBER, name= \"integer_in\"),\n",
    "        textarea(\"Enter your review for the vaccine:\", type = TEXT, name = 'text_area'),\n",
    "        radio(\"Which vaccine were you injected with:\", options = [('Moderna',1),('Sputnik-V',2),('Covishield',3),('Covaxin',4)],name='radio_selection')\n",
    "        ], validate=check_form) \n",
    "        prediction = check_review(inputs['text_area'])\n",
    "    \n",
    "        #Code for displaying age\n",
    "        if((inputs['integer_in']) >= 18 and inputs['integer_in'] != \" \"):\n",
    "            put_text(\"Age:\", inputs['integer_in'])\n",
    "            #Code for displaying review\n",
    "            put_text(\"User Review:\", inputs['text_area'])\n",
    "            #Code for displaying Vaccination\n",
    "            if(inputs['radio_selection'] == 1):\n",
    "                put_text(\"Vaccine:\", \"Moderna\")\n",
    "            elif (inputs['radio_selection'] == 2):\n",
    "                put_text(\"Vaccine:\", \"Sputnik-V\")\n",
    "            elif (inputs['radio_selection'] == 3):\n",
    "                put_text(\"Vaccine:\", \"Covishield\")\n",
    "            else:\n",
    "                put_text(\"Vaccine:\", \"Covaxin\")\n",
    "\n",
    "            #displaying sentiment\n",
    "            put_text(\"Review Sentiment:\",prediction)\n",
    "        else:\n",
    "            put_text(\"No one below 18 can be vaccinated,we request you to contact your respective guardians\")\n",
    "\n",
    "#Creating the application\n",
    "if __name__ == \"__main__\" :\n",
    "    try:\n",
    "        demo()\n",
    "    except SessionClosedException:\n",
    "        print(\"it closed\")\n"
   ]
  },
  {
   "cell_type": "code",
   "execution_count": null,
   "id": "portuguese-courtesy",
   "metadata": {},
   "outputs": [],
   "source": []
  },
  {
   "cell_type": "code",
   "execution_count": null,
   "id": "passive-portal",
   "metadata": {},
   "outputs": [],
   "source": []
  }
 ],
 "metadata": {
  "kernelspec": {
   "display_name": "Python 3",
   "language": "python",
   "name": "python3"
  },
  "language_info": {
   "codemirror_mode": {
    "name": "ipython",
    "version": 3
   },
   "file_extension": ".py",
   "mimetype": "text/x-python",
   "name": "python",
   "nbconvert_exporter": "python",
   "pygments_lexer": "ipython3",
   "version": "3.9.2"
  }
 },
 "nbformat": 4,
 "nbformat_minor": 5
}
