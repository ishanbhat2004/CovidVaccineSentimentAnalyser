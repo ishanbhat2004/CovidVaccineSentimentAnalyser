{
 "cells": [
  {
   "cell_type": "code",
   "execution_count": 1,
   "id": "strange-involvement",
   "metadata": {},
   "outputs": [],
   "source": [
    "import pickle"
   ]
  },
  {
   "cell_type": "code",
   "execution_count": 5,
   "id": "coastal-converter",
   "metadata": {},
   "outputs": [],
   "source": [
    "def check_review(reviewText):\n",
    "    file = open(\"pickle_model.pkl\",'rb')\n",
    "    recreated_model = pickle.load(file)\n",
    "    \n",
    "    vocab_file = open('features.pkl','rb')\n",
    "    recreated_vocab =  pickle.load(vocab_file)\n",
    "    \n",
    "    from sklearn.feature_extraction.text import TfidfVectorizer\n",
    "    recreated_vect = TfidfVectorizer(vocabulary = recreated_vocab)\n",
    "    \n",
    "    reviewText_vectorized = recreated_vect.fit_transform([reviewText])\n",
    "    if (recreated_model.predict(reviewText_vectorized) == 0 ):\n",
    "        return \"we'll inform our authorities regarding your complaint\"\n",
    "    else:\n",
    "        return \"Glad you liked our vaccine!\""
   ]
  },
  {
   "cell_type": "code",
   "execution_count": 6,
   "id": "economic-indicator",
   "metadata": {},
   "outputs": [
    {
     "data": {
      "text/plain": [
       "'Glad you liked our vaccine!'"
      ]
     },
     "execution_count": 6,
     "metadata": {},
     "output_type": "execute_result"
    }
   ],
   "source": [
    "check_review(\"It was great\")"
   ]
  },
  {
   "cell_type": "code",
   "execution_count": null,
   "id": "stopped-space",
   "metadata": {},
   "outputs": [],
   "source": []
  }
 ],
 "metadata": {
  "kernelspec": {
   "display_name": "Python 3",
   "language": "python",
   "name": "python3"
  },
  "language_info": {
   "codemirror_mode": {
    "name": "ipython",
    "version": 3
   },
   "file_extension": ".py",
   "mimetype": "text/x-python",
   "name": "python",
   "nbconvert_exporter": "python",
   "pygments_lexer": "ipython3",
   "version": "3.9.2"
  }
 },
 "nbformat": 4,
 "nbformat_minor": 5
}
